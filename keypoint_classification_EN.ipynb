{
 "cells": [
  {
   "cell_type": "code",
   "execution_count": 245,
   "metadata": {
    "id": "igMyGnjE9hEp"
   },
   "outputs": [],
   "source": [
    "import csv\n",
    "\n",
    "import numpy as np\n",
    "import tensorflow as tf\n",
    "from sklearn.model_selection import train_test_split\n",
    "\n",
    "RANDOM_SEED = 42"
   ]
  },
  {
   "cell_type": "markdown",
   "metadata": {
    "id": "t2HDvhIu9hEr"
   },
   "source": [
    "# Specify each path"
   ]
  },
  {
   "cell_type": "code",
   "execution_count": 246,
   "metadata": {
    "id": "9NvZP2Zn9hEy"
   },
   "outputs": [],
   "source": [
    "dataset = 'model/keypoint_classifier/keypoint.csv'\n",
    "model_save_path = 'model/keypoint_classifier/keypoint_classifier.hdf5'\n",
    "tflite_save_path = 'model/keypoint_classifier/keypoint_classifier.tflite'"
   ]
  },
  {
   "cell_type": "markdown",
   "metadata": {
    "id": "s5oMH7x19hEz"
   },
   "source": [
    "# Set number of classes"
   ]
  },
  {
   "cell_type": "code",
   "execution_count": 247,
   "metadata": {
    "id": "du4kodXL9hEz"
   },
   "outputs": [],
   "source": [
    "NUM_CLASSES = 4"
   ]
  },
  {
   "cell_type": "markdown",
   "metadata": {
    "id": "XjnL0uso9hEz"
   },
   "source": [
    "# Dataset reading"
   ]
  },
  {
   "cell_type": "code",
   "execution_count": 248,
   "metadata": {
    "id": "QT5ZqtEz9hE0"
   },
   "outputs": [],
   "source": [
    "X_dataset = np.loadtxt(dataset, delimiter=',', dtype='float32', usecols=list(range(1, (21 * 2) + 1)))"
   ]
  },
  {
   "cell_type": "code",
   "execution_count": 249,
   "metadata": {
    "id": "QmoKFsp49hE0"
   },
   "outputs": [],
   "source": [
    "y_dataset = np.loadtxt(dataset, delimiter=',', dtype='int32', usecols=(0))"
   ]
  },
  {
   "cell_type": "code",
   "execution_count": 250,
   "metadata": {
    "id": "xQU7JTZ_9hE0"
   },
   "outputs": [],
   "source": [
    "X_train, X_test, y_train, y_test = train_test_split(X_dataset, y_dataset, train_size=0.75, random_state=RANDOM_SEED)"
   ]
  },
  {
   "cell_type": "markdown",
   "metadata": {
    "id": "mxK_lETT9hE0"
   },
   "source": [
    "# Model building"
   ]
  },
  {
   "cell_type": "code",
   "execution_count": 251,
   "metadata": {
    "id": "vHBmUf1t9hE1"
   },
   "outputs": [],
   "source": [
    "model = tf.keras.models.Sequential([\n",
    "    tf.keras.layers.Input((21 * 2, )),\n",
    "    tf.keras.layers.Dropout(0.2),\n",
    "    tf.keras.layers.Dense(20, activation='relu'),\n",
    "    tf.keras.layers.Dropout(0.4),\n",
    "    tf.keras.layers.Dense(10, activation='relu'),\n",
    "    tf.keras.layers.Dense(NUM_CLASSES, activation='softmax')\n",
    "])"
   ]
  },
  {
   "cell_type": "code",
   "execution_count": 252,
   "metadata": {
    "colab": {
     "base_uri": "https://localhost:8080/"
    },
    "id": "ypqky9tc9hE1",
    "outputId": "5db082bb-30e3-4110-bf63-a1ee777ecd46"
   },
   "outputs": [
    {
     "name": "stdout",
     "output_type": "stream",
     "text": [
      "Model: \"sequential_13\"\n",
      "_________________________________________________________________\n",
      " Layer (type)                Output Shape              Param #   \n",
      "=================================================================\n",
      " dropout_26 (Dropout)        (None, 42)                0         \n",
      "                                                                 \n",
      " dense_39 (Dense)            (None, 20)                860       \n",
      "                                                                 \n",
      " dropout_27 (Dropout)        (None, 20)                0         \n",
      "                                                                 \n",
      " dense_40 (Dense)            (None, 10)                210       \n",
      "                                                                 \n",
      " dense_41 (Dense)            (None, 4)                 44        \n",
      "                                                                 \n",
      "=================================================================\n",
      "Total params: 1,114\n",
      "Trainable params: 1,114\n",
      "Non-trainable params: 0\n",
      "_________________________________________________________________\n"
     ]
    }
   ],
   "source": [
    "model.summary()  # tf.keras.utils.plot_model(model, show_shapes=True)"
   ]
  },
  {
   "cell_type": "code",
   "execution_count": 253,
   "metadata": {
    "id": "MbMjOflQ9hE1"
   },
   "outputs": [],
   "source": [
    "# Model checkpoint callback\n",
    "cp_callback = tf.keras.callbacks.ModelCheckpoint(\n",
    "    model_save_path, verbose=1, save_weights_only=False)\n",
    "# Callback for early stopping\n",
    "es_callback = tf.keras.callbacks.EarlyStopping(patience=20, verbose=1)"
   ]
  },
  {
   "cell_type": "code",
   "execution_count": 254,
   "metadata": {
    "id": "c3Dac0M_9hE2"
   },
   "outputs": [],
   "source": [
    "# Model compilation\n",
    "model.compile(\n",
    "    optimizer='adam',\n",
    "    loss='sparse_categorical_crossentropy',\n",
    "    metrics=['accuracy']\n",
    ")"
   ]
  },
  {
   "cell_type": "markdown",
   "metadata": {
    "id": "7XI0j1Iu9hE2"
   },
   "source": [
    "# Model training"
   ]
  },
  {
   "cell_type": "code",
   "execution_count": 255,
   "metadata": {
    "colab": {
     "base_uri": "https://localhost:8080/"
    },
    "id": "WirBl-JE9hE3",
    "outputId": "71b30ca2-8294-4d9d-8aa2-800d90d399de",
    "scrolled": true
   },
   "outputs": [
    {
     "name": "stdout",
     "output_type": "stream",
     "text": [
      "Epoch 1/1000\n",
      "1/4 [======>.......................] - ETA: 0s - loss: 1.3894 - accuracy: 0.2500\n",
      "Epoch 1: saving model to model/keypoint_classifier/keypoint_classifier.hdf5\n",
      "4/4 [==============================] - 1s 128ms/step - loss: 1.3862 - accuracy: 0.2580 - val_loss: 1.3642 - val_accuracy: 0.1911\n",
      "Epoch 2/1000\n",
      "1/4 [======>.......................] - ETA: 0s - loss: 1.3584 - accuracy: 0.2656\n",
      "Epoch 2: saving model to model/keypoint_classifier/keypoint_classifier.hdf5\n",
      "4/4 [==============================] - 0s 13ms/step - loss: 1.3621 - accuracy: 0.2985 - val_loss: 1.3338 - val_accuracy: 0.2930\n",
      "Epoch 3/1000\n",
      "1/4 [======>.......................] - ETA: 0s - loss: 1.3461 - accuracy: 0.3516\n",
      "Epoch 3: saving model to model/keypoint_classifier/keypoint_classifier.hdf5\n",
      "4/4 [==============================] - 0s 12ms/step - loss: 1.3223 - accuracy: 0.3881 - val_loss: 1.2957 - val_accuracy: 0.5605\n",
      "Epoch 4/1000\n",
      "1/4 [======>.......................] - ETA: 0s - loss: 1.3612 - accuracy: 0.4062\n",
      "Epoch 4: saving model to model/keypoint_classifier/keypoint_classifier.hdf5\n",
      "4/4 [==============================] - 0s 13ms/step - loss: 1.3069 - accuracy: 0.4392 - val_loss: 1.2511 - val_accuracy: 0.5605\n",
      "Epoch 5/1000\n",
      "1/4 [======>.......................] - ETA: 0s - loss: 1.2776 - accuracy: 0.4766\n",
      "Epoch 5: saving model to model/keypoint_classifier/keypoint_classifier.hdf5\n",
      "4/4 [==============================] - 0s 12ms/step - loss: 1.2830 - accuracy: 0.4606 - val_loss: 1.2106 - val_accuracy: 0.5605\n",
      "Epoch 6/1000\n",
      "1/4 [======>.......................] - ETA: 0s - loss: 1.2426 - accuracy: 0.5391\n",
      "Epoch 6: saving model to model/keypoint_classifier/keypoint_classifier.hdf5\n",
      "4/4 [==============================] - 0s 13ms/step - loss: 1.2492 - accuracy: 0.4861 - val_loss: 1.1758 - val_accuracy: 0.5605\n",
      "Epoch 7/1000\n",
      "1/4 [======>.......................] - ETA: 0s - loss: 1.2388 - accuracy: 0.5000\n",
      "Epoch 7: saving model to model/keypoint_classifier/keypoint_classifier.hdf5\n",
      "4/4 [==============================] - 0s 13ms/step - loss: 1.2284 - accuracy: 0.4989 - val_loss: 1.1447 - val_accuracy: 0.5605\n",
      "Epoch 8/1000\n",
      "1/4 [======>.......................] - ETA: 0s - loss: 1.1747 - accuracy: 0.5469\n",
      "Epoch 8: saving model to model/keypoint_classifier/keypoint_classifier.hdf5\n",
      "4/4 [==============================] - 0s 13ms/step - loss: 1.2049 - accuracy: 0.5032 - val_loss: 1.1157 - val_accuracy: 0.5605\n",
      "Epoch 9/1000\n",
      "1/4 [======>.......................] - ETA: 0s - loss: 1.1304 - accuracy: 0.5547\n",
      "Epoch 9: saving model to model/keypoint_classifier/keypoint_classifier.hdf5\n",
      "4/4 [==============================] - 0s 13ms/step - loss: 1.1967 - accuracy: 0.4989 - val_loss: 1.0923 - val_accuracy: 0.5605\n",
      "Epoch 10/1000\n",
      "1/4 [======>.......................] - ETA: 0s - loss: 1.2204 - accuracy: 0.4609\n",
      "Epoch 10: saving model to model/keypoint_classifier/keypoint_classifier.hdf5\n",
      "4/4 [==============================] - 0s 13ms/step - loss: 1.1848 - accuracy: 0.5011 - val_loss: 1.0740 - val_accuracy: 0.5605\n",
      "Epoch 11/1000\n",
      "1/4 [======>.......................] - ETA: 0s - loss: 1.1970 - accuracy: 0.4922\n",
      "Epoch 11: saving model to model/keypoint_classifier/keypoint_classifier.hdf5\n",
      "4/4 [==============================] - 0s 13ms/step - loss: 1.1796 - accuracy: 0.5117 - val_loss: 1.0593 - val_accuracy: 0.5605\n",
      "Epoch 12/1000\n",
      "1/4 [======>.......................] - ETA: 0s - loss: 1.0775 - accuracy: 0.5938\n",
      "Epoch 12: saving model to model/keypoint_classifier/keypoint_classifier.hdf5\n",
      "4/4 [==============================] - 0s 13ms/step - loss: 1.1483 - accuracy: 0.5117 - val_loss: 1.0454 - val_accuracy: 0.5605\n",
      "Epoch 13/1000\n",
      "1/4 [======>.......................] - ETA: 0s - loss: 1.2378 - accuracy: 0.4609\n",
      "Epoch 13: saving model to model/keypoint_classifier/keypoint_classifier.hdf5\n",
      "4/4 [==============================] - 0s 13ms/step - loss: 1.1582 - accuracy: 0.5139 - val_loss: 1.0339 - val_accuracy: 0.5605\n",
      "Epoch 14/1000\n",
      "1/4 [======>.......................] - ETA: 0s - loss: 1.1056 - accuracy: 0.5469\n",
      "Epoch 14: saving model to model/keypoint_classifier/keypoint_classifier.hdf5\n",
      "4/4 [==============================] - 0s 13ms/step - loss: 1.1388 - accuracy: 0.5053 - val_loss: 1.0235 - val_accuracy: 0.5605\n",
      "Epoch 15/1000\n",
      "1/4 [======>.......................] - ETA: 0s - loss: 1.1380 - accuracy: 0.5156\n",
      "Epoch 15: saving model to model/keypoint_classifier/keypoint_classifier.hdf5\n",
      "4/4 [==============================] - 0s 13ms/step - loss: 1.1300 - accuracy: 0.5224 - val_loss: 1.0139 - val_accuracy: 0.5605\n",
      "Epoch 16/1000\n",
      "1/4 [======>.......................] - ETA: 0s - loss: 1.1675 - accuracy: 0.5156\n",
      "Epoch 16: saving model to model/keypoint_classifier/keypoint_classifier.hdf5\n",
      "4/4 [==============================] - 0s 12ms/step - loss: 1.1298 - accuracy: 0.5117 - val_loss: 1.0042 - val_accuracy: 0.5605\n",
      "Epoch 17/1000\n",
      "1/4 [======>.......................] - ETA: 0s - loss: 1.1307 - accuracy: 0.5312\n",
      "Epoch 17: saving model to model/keypoint_classifier/keypoint_classifier.hdf5\n",
      "4/4 [==============================] - 0s 13ms/step - loss: 1.1339 - accuracy: 0.5096 - val_loss: 0.9949 - val_accuracy: 0.5605\n",
      "Epoch 18/1000\n",
      "1/4 [======>.......................] - ETA: 0s - loss: 1.0781 - accuracy: 0.5312\n",
      "Epoch 18: saving model to model/keypoint_classifier/keypoint_classifier.hdf5\n",
      "4/4 [==============================] - 0s 13ms/step - loss: 1.0920 - accuracy: 0.5245 - val_loss: 0.9842 - val_accuracy: 0.5605\n",
      "Epoch 19/1000\n",
      "1/4 [======>.......................] - ETA: 0s - loss: 1.1259 - accuracy: 0.4688\n",
      "Epoch 19: saving model to model/keypoint_classifier/keypoint_classifier.hdf5\n",
      "4/4 [==============================] - 0s 15ms/step - loss: 1.0924 - accuracy: 0.5330 - val_loss: 0.9733 - val_accuracy: 0.5605\n",
      "Epoch 20/1000\n",
      "1/4 [======>.......................] - ETA: 0s - loss: 1.0522 - accuracy: 0.5391\n",
      "Epoch 20: saving model to model/keypoint_classifier/keypoint_classifier.hdf5\n",
      "4/4 [==============================] - 0s 17ms/step - loss: 1.1013 - accuracy: 0.5245 - val_loss: 0.9616 - val_accuracy: 0.5605\n",
      "Epoch 21/1000\n",
      "1/4 [======>.......................] - ETA: 0s - loss: 1.1105 - accuracy: 0.4688\n",
      "Epoch 21: saving model to model/keypoint_classifier/keypoint_classifier.hdf5\n",
      "4/4 [==============================] - 0s 17ms/step - loss: 1.0747 - accuracy: 0.5330 - val_loss: 0.9496 - val_accuracy: 0.5605\n",
      "Epoch 22/1000\n",
      "1/4 [======>.......................] - ETA: 0s - loss: 1.0475 - accuracy: 0.5938\n",
      "Epoch 22: saving model to model/keypoint_classifier/keypoint_classifier.hdf5\n",
      "4/4 [==============================] - 0s 15ms/step - loss: 1.0586 - accuracy: 0.5480 - val_loss: 0.9364 - val_accuracy: 0.5796\n",
      "Epoch 23/1000\n",
      "1/4 [======>.......................] - ETA: 0s - loss: 1.0963 - accuracy: 0.5234\n",
      "Epoch 23: saving model to model/keypoint_classifier/keypoint_classifier.hdf5\n",
      "4/4 [==============================] - 0s 15ms/step - loss: 1.0589 - accuracy: 0.5480 - val_loss: 0.9233 - val_accuracy: 0.6752\n",
      "Epoch 24/1000\n",
      "1/4 [======>.......................] - ETA: 0s - loss: 1.0464 - accuracy: 0.5859\n",
      "Epoch 24: saving model to model/keypoint_classifier/keypoint_classifier.hdf5\n",
      "4/4 [==============================] - 0s 14ms/step - loss: 1.0586 - accuracy: 0.5672 - val_loss: 0.9095 - val_accuracy: 0.7006\n",
      "Epoch 25/1000\n",
      "1/4 [======>.......................] - ETA: 0s - loss: 1.0984 - accuracy: 0.5469\n",
      "Epoch 25: saving model to model/keypoint_classifier/keypoint_classifier.hdf5\n",
      "4/4 [==============================] - 0s 14ms/step - loss: 1.0268 - accuracy: 0.5736 - val_loss: 0.8958 - val_accuracy: 0.7134\n",
      "Epoch 26/1000\n",
      "1/4 [======>.......................] - ETA: 0s - loss: 1.0263 - accuracy: 0.5625\n",
      "Epoch 26: saving model to model/keypoint_classifier/keypoint_classifier.hdf5\n",
      "4/4 [==============================] - 0s 14ms/step - loss: 1.0097 - accuracy: 0.5842 - val_loss: 0.8796 - val_accuracy: 0.7197\n",
      "Epoch 27/1000\n",
      "1/4 [======>.......................] - ETA: 0s - loss: 1.0318 - accuracy: 0.5625\n",
      "Epoch 27: saving model to model/keypoint_classifier/keypoint_classifier.hdf5\n",
      "4/4 [==============================] - 0s 19ms/step - loss: 1.0291 - accuracy: 0.5650 - val_loss: 0.8626 - val_accuracy: 0.7197\n",
      "Epoch 28/1000\n",
      "1/4 [======>.......................] - ETA: 0s - loss: 0.9582 - accuracy: 0.6172\n",
      "Epoch 28: saving model to model/keypoint_classifier/keypoint_classifier.hdf5\n",
      "4/4 [==============================] - 0s 18ms/step - loss: 0.9952 - accuracy: 0.6034 - val_loss: 0.8465 - val_accuracy: 0.7197\n",
      "Epoch 29/1000\n",
      "1/4 [======>.......................] - ETA: 0s - loss: 1.0028 - accuracy: 0.6172\n",
      "Epoch 29: saving model to model/keypoint_classifier/keypoint_classifier.hdf5\n",
      "4/4 [==============================] - 0s 17ms/step - loss: 1.0016 - accuracy: 0.6141 - val_loss: 0.8297 - val_accuracy: 0.7197\n",
      "Epoch 30/1000\n",
      "1/4 [======>.......................] - ETA: 0s - loss: 1.0301 - accuracy: 0.5703\n",
      "Epoch 30: saving model to model/keypoint_classifier/keypoint_classifier.hdf5\n",
      "4/4 [==============================] - 0s 14ms/step - loss: 1.0001 - accuracy: 0.5970 - val_loss: 0.8133 - val_accuracy: 0.7197\n",
      "Epoch 31/1000\n",
      "1/4 [======>.......................] - ETA: 0s - loss: 0.9245 - accuracy: 0.6484\n",
      "Epoch 31: saving model to model/keypoint_classifier/keypoint_classifier.hdf5\n",
      "4/4 [==============================] - 0s 13ms/step - loss: 0.9949 - accuracy: 0.6226 - val_loss: 0.7963 - val_accuracy: 0.7197\n",
      "Epoch 32/1000\n",
      "1/4 [======>.......................] - ETA: 0s - loss: 1.0059 - accuracy: 0.5938\n",
      "Epoch 32: saving model to model/keypoint_classifier/keypoint_classifier.hdf5\n",
      "4/4 [==============================] - 0s 14ms/step - loss: 0.9603 - accuracy: 0.6162 - val_loss: 0.7815 - val_accuracy: 0.7197\n",
      "Epoch 33/1000\n",
      "1/4 [======>.......................] - ETA: 0s - loss: 0.9267 - accuracy: 0.6641\n",
      "Epoch 33: saving model to model/keypoint_classifier/keypoint_classifier.hdf5\n",
      "4/4 [==============================] - 0s 13ms/step - loss: 0.9593 - accuracy: 0.6311 - val_loss: 0.7649 - val_accuracy: 0.7197\n",
      "Epoch 34/1000\n",
      "1/4 [======>.......................] - ETA: 0s - loss: 0.9334 - accuracy: 0.6328\n",
      "Epoch 34: saving model to model/keypoint_classifier/keypoint_classifier.hdf5\n",
      "4/4 [==============================] - 0s 13ms/step - loss: 0.9398 - accuracy: 0.6397 - val_loss: 0.7484 - val_accuracy: 0.7197\n",
      "Epoch 35/1000\n",
      "1/4 [======>.......................] - ETA: 0s - loss: 0.8736 - accuracy: 0.6562\n",
      "Epoch 35: saving model to model/keypoint_classifier/keypoint_classifier.hdf5\n",
      "4/4 [==============================] - 0s 13ms/step - loss: 0.9101 - accuracy: 0.6461 - val_loss: 0.7311 - val_accuracy: 0.7197\n",
      "Epoch 36/1000\n",
      "1/4 [======>.......................] - ETA: 0s - loss: 0.8588 - accuracy: 0.7031\n",
      "Epoch 36: saving model to model/keypoint_classifier/keypoint_classifier.hdf5\n",
      "4/4 [==============================] - 0s 13ms/step - loss: 0.9052 - accuracy: 0.6525 - val_loss: 0.7134 - val_accuracy: 0.7197\n",
      "Epoch 37/1000\n",
      "1/4 [======>.......................] - ETA: 0s - loss: 0.8944 - accuracy: 0.6641\n",
      "Epoch 37: saving model to model/keypoint_classifier/keypoint_classifier.hdf5\n",
      "4/4 [==============================] - 0s 13ms/step - loss: 0.9006 - accuracy: 0.6567 - val_loss: 0.6965 - val_accuracy: 0.7197\n",
      "Epoch 38/1000\n",
      "1/4 [======>.......................] - ETA: 0s - loss: 0.8273 - accuracy: 0.6953\n",
      "Epoch 38: saving model to model/keypoint_classifier/keypoint_classifier.hdf5\n",
      "4/4 [==============================] - 0s 13ms/step - loss: 0.8820 - accuracy: 0.6588 - val_loss: 0.6788 - val_accuracy: 0.7261\n",
      "Epoch 39/1000\n",
      "1/4 [======>.......................] - ETA: 0s - loss: 0.8606 - accuracy: 0.6641\n",
      "Epoch 39: saving model to model/keypoint_classifier/keypoint_classifier.hdf5\n",
      "4/4 [==============================] - 0s 13ms/step - loss: 0.8533 - accuracy: 0.6716 - val_loss: 0.6629 - val_accuracy: 0.7389\n",
      "Epoch 40/1000\n",
      "1/4 [======>.......................] - ETA: 0s - loss: 0.8339 - accuracy: 0.6797\n",
      "Epoch 40: saving model to model/keypoint_classifier/keypoint_classifier.hdf5\n",
      "4/4 [==============================] - 0s 13ms/step - loss: 0.8258 - accuracy: 0.6844 - val_loss: 0.6472 - val_accuracy: 0.7452\n",
      "Epoch 41/1000\n",
      "1/4 [======>.......................] - ETA: 0s - loss: 0.8276 - accuracy: 0.7031\n",
      "Epoch 41: saving model to model/keypoint_classifier/keypoint_classifier.hdf5\n",
      "4/4 [==============================] - 0s 14ms/step - loss: 0.8637 - accuracy: 0.6759 - val_loss: 0.6329 - val_accuracy: 0.7580\n",
      "Epoch 42/1000\n",
      "1/4 [======>.......................] - ETA: 0s - loss: 0.8916 - accuracy: 0.6562\n",
      "Epoch 42: saving model to model/keypoint_classifier/keypoint_classifier.hdf5\n",
      "4/4 [==============================] - 0s 13ms/step - loss: 0.8532 - accuracy: 0.6738 - val_loss: 0.6183 - val_accuracy: 0.7707\n",
      "Epoch 43/1000\n",
      "1/4 [======>.......................] - ETA: 0s - loss: 0.8838 - accuracy: 0.6328\n",
      "Epoch 43: saving model to model/keypoint_classifier/keypoint_classifier.hdf5\n",
      "4/4 [==============================] - 0s 14ms/step - loss: 0.8301 - accuracy: 0.6802 - val_loss: 0.6071 - val_accuracy: 0.7707\n",
      "Epoch 44/1000\n",
      "1/4 [======>.......................] - ETA: 0s - loss: 0.8465 - accuracy: 0.7109\n",
      "Epoch 44: saving model to model/keypoint_classifier/keypoint_classifier.hdf5\n",
      "4/4 [==============================] - 0s 14ms/step - loss: 0.8312 - accuracy: 0.6930 - val_loss: 0.5974 - val_accuracy: 0.7707\n",
      "Epoch 45/1000\n",
      "1/4 [======>.......................] - ETA: 0s - loss: 0.7554 - accuracy: 0.7344\n",
      "Epoch 45: saving model to model/keypoint_classifier/keypoint_classifier.hdf5\n",
      "4/4 [==============================] - 0s 17ms/step - loss: 0.8162 - accuracy: 0.6994 - val_loss: 0.5898 - val_accuracy: 0.7707\n",
      "Epoch 46/1000\n",
      "1/4 [======>.......................] - ETA: 0s - loss: 0.7460 - accuracy: 0.7031\n",
      "Epoch 46: saving model to model/keypoint_classifier/keypoint_classifier.hdf5\n",
      "4/4 [==============================] - 0s 18ms/step - loss: 0.8162 - accuracy: 0.6823 - val_loss: 0.5791 - val_accuracy: 0.7707\n",
      "Epoch 47/1000\n",
      "1/4 [======>.......................] - ETA: 0s - loss: 0.7878 - accuracy: 0.6953\n",
      "Epoch 47: saving model to model/keypoint_classifier/keypoint_classifier.hdf5\n",
      "4/4 [==============================] - 0s 17ms/step - loss: 0.7700 - accuracy: 0.7143 - val_loss: 0.5654 - val_accuracy: 0.8025\n",
      "Epoch 48/1000\n",
      "1/4 [======>.......................] - ETA: 0s - loss: 0.6733 - accuracy: 0.7891\n",
      "Epoch 48: saving model to model/keypoint_classifier/keypoint_classifier.hdf5\n",
      "4/4 [==============================] - 0s 14ms/step - loss: 0.7500 - accuracy: 0.7100 - val_loss: 0.5529 - val_accuracy: 0.8217\n",
      "Epoch 49/1000\n",
      "1/4 [======>.......................] - ETA: 0s - loss: 0.7180 - accuracy: 0.7344\n",
      "Epoch 49: saving model to model/keypoint_classifier/keypoint_classifier.hdf5\n",
      "4/4 [==============================] - 0s 14ms/step - loss: 0.7642 - accuracy: 0.7100 - val_loss: 0.5408 - val_accuracy: 0.8217\n",
      "Epoch 50/1000\n",
      "1/4 [======>.......................] - ETA: 0s - loss: 0.8219 - accuracy: 0.6797\n",
      "Epoch 50: saving model to model/keypoint_classifier/keypoint_classifier.hdf5\n",
      "4/4 [==============================] - 0s 15ms/step - loss: 0.7229 - accuracy: 0.7441 - val_loss: 0.5303 - val_accuracy: 0.8344\n",
      "Epoch 51/1000\n",
      "1/4 [======>.......................] - ETA: 0s - loss: 0.6962 - accuracy: 0.7734\n",
      "Epoch 51: saving model to model/keypoint_classifier/keypoint_classifier.hdf5\n",
      "4/4 [==============================] - 0s 17ms/step - loss: 0.7504 - accuracy: 0.6951 - val_loss: 0.5226 - val_accuracy: 0.8344\n",
      "Epoch 52/1000\n",
      "1/4 [======>.......................] - ETA: 0s - loss: 0.7319 - accuracy: 0.7109\n",
      "Epoch 52: saving model to model/keypoint_classifier/keypoint_classifier.hdf5\n",
      "4/4 [==============================] - 0s 15ms/step - loss: 0.7090 - accuracy: 0.7292 - val_loss: 0.5159 - val_accuracy: 0.8344\n",
      "Epoch 53/1000\n",
      "1/4 [======>.......................] - ETA: 0s - loss: 0.7456 - accuracy: 0.7109\n",
      "Epoch 53: saving model to model/keypoint_classifier/keypoint_classifier.hdf5\n",
      "4/4 [==============================] - 0s 15ms/step - loss: 0.7100 - accuracy: 0.7228 - val_loss: 0.5046 - val_accuracy: 0.8408\n",
      "Epoch 54/1000\n",
      "1/4 [======>.......................] - ETA: 0s - loss: 0.6836 - accuracy: 0.7734\n",
      "Epoch 54: saving model to model/keypoint_classifier/keypoint_classifier.hdf5\n",
      "4/4 [==============================] - 0s 14ms/step - loss: 0.7106 - accuracy: 0.7164 - val_loss: 0.4941 - val_accuracy: 0.8599\n",
      "Epoch 55/1000\n",
      "1/4 [======>.......................] - ETA: 0s - loss: 0.7504 - accuracy: 0.7031\n",
      "Epoch 55: saving model to model/keypoint_classifier/keypoint_classifier.hdf5\n",
      "4/4 [==============================] - 0s 15ms/step - loss: 0.7672 - accuracy: 0.6780 - val_loss: 0.4879 - val_accuracy: 0.8662\n",
      "Epoch 56/1000\n",
      "1/4 [======>.......................] - ETA: 0s - loss: 0.7640 - accuracy: 0.6406\n",
      "Epoch 56: saving model to model/keypoint_classifier/keypoint_classifier.hdf5\n",
      "4/4 [==============================] - 0s 15ms/step - loss: 0.7200 - accuracy: 0.7100 - val_loss: 0.4823 - val_accuracy: 0.8662\n",
      "Epoch 57/1000\n",
      "1/4 [======>.......................] - ETA: 0s - loss: 0.6494 - accuracy: 0.7422\n",
      "Epoch 57: saving model to model/keypoint_classifier/keypoint_classifier.hdf5\n",
      "4/4 [==============================] - 0s 15ms/step - loss: 0.6754 - accuracy: 0.7228 - val_loss: 0.4688 - val_accuracy: 0.8790\n",
      "Epoch 58/1000\n",
      "1/4 [======>.......................] - ETA: 0s - loss: 0.6879 - accuracy: 0.6875\n",
      "Epoch 58: saving model to model/keypoint_classifier/keypoint_classifier.hdf5\n",
      "4/4 [==============================] - 0s 15ms/step - loss: 0.6856 - accuracy: 0.7335 - val_loss: 0.4558 - val_accuracy: 0.8917\n",
      "Epoch 59/1000\n",
      "1/4 [======>.......................] - ETA: 0s - loss: 0.7226 - accuracy: 0.7344\n",
      "Epoch 59: saving model to model/keypoint_classifier/keypoint_classifier.hdf5\n",
      "4/4 [==============================] - 0s 14ms/step - loss: 0.6908 - accuracy: 0.7484 - val_loss: 0.4461 - val_accuracy: 0.8917\n",
      "Epoch 60/1000\n",
      "1/4 [======>.......................] - ETA: 0s - loss: 0.5941 - accuracy: 0.7969\n",
      "Epoch 60: saving model to model/keypoint_classifier/keypoint_classifier.hdf5\n",
      "4/4 [==============================] - 0s 14ms/step - loss: 0.6578 - accuracy: 0.7676 - val_loss: 0.4363 - val_accuracy: 0.8917\n",
      "Epoch 61/1000\n",
      "1/4 [======>.......................] - ETA: 0s - loss: 0.7594 - accuracy: 0.6641\n",
      "Epoch 61: saving model to model/keypoint_classifier/keypoint_classifier.hdf5\n",
      "4/4 [==============================] - 0s 15ms/step - loss: 0.7043 - accuracy: 0.7335 - val_loss: 0.4275 - val_accuracy: 0.9045\n",
      "Epoch 62/1000\n",
      "1/4 [======>.......................] - ETA: 0s - loss: 0.6779 - accuracy: 0.7578\n",
      "Epoch 62: saving model to model/keypoint_classifier/keypoint_classifier.hdf5\n",
      "4/4 [==============================] - 0s 15ms/step - loss: 0.6744 - accuracy: 0.7356 - val_loss: 0.4255 - val_accuracy: 0.9045\n",
      "Epoch 63/1000\n",
      "1/4 [======>.......................] - ETA: 0s - loss: 0.6347 - accuracy: 0.7656\n",
      "Epoch 63: saving model to model/keypoint_classifier/keypoint_classifier.hdf5\n",
      "4/4 [==============================] - 0s 17ms/step - loss: 0.6461 - accuracy: 0.7420 - val_loss: 0.4240 - val_accuracy: 0.9045\n",
      "Epoch 64/1000\n",
      "1/4 [======>.......................] - ETA: 0s - loss: 0.6051 - accuracy: 0.7500\n",
      "Epoch 64: saving model to model/keypoint_classifier/keypoint_classifier.hdf5\n",
      "4/4 [==============================] - 0s 16ms/step - loss: 0.6439 - accuracy: 0.7484 - val_loss: 0.4175 - val_accuracy: 0.9045\n",
      "Epoch 65/1000\n",
      "1/4 [======>.......................] - ETA: 0s - loss: 0.6288 - accuracy: 0.7969\n",
      "Epoch 65: saving model to model/keypoint_classifier/keypoint_classifier.hdf5\n",
      "4/4 [==============================] - 0s 14ms/step - loss: 0.6409 - accuracy: 0.7804 - val_loss: 0.4092 - val_accuracy: 0.9045\n",
      "Epoch 66/1000\n",
      "1/4 [======>.......................] - ETA: 0s - loss: 0.6278 - accuracy: 0.7656\n",
      "Epoch 66: saving model to model/keypoint_classifier/keypoint_classifier.hdf5\n",
      "4/4 [==============================] - 0s 15ms/step - loss: 0.6464 - accuracy: 0.7676 - val_loss: 0.4033 - val_accuracy: 0.9045\n",
      "Epoch 67/1000\n",
      "1/4 [======>.......................] - ETA: 0s - loss: 0.7511 - accuracy: 0.6562\n",
      "Epoch 67: saving model to model/keypoint_classifier/keypoint_classifier.hdf5\n",
      "4/4 [==============================] - 0s 18ms/step - loss: 0.6479 - accuracy: 0.7249 - val_loss: 0.3988 - val_accuracy: 0.9045\n",
      "Epoch 68/1000\n",
      "1/4 [======>.......................] - ETA: 0s - loss: 0.5739 - accuracy: 0.7188\n",
      "Epoch 68: saving model to model/keypoint_classifier/keypoint_classifier.hdf5\n",
      "4/4 [==============================] - 0s 18ms/step - loss: 0.6021 - accuracy: 0.7527 - val_loss: 0.3923 - val_accuracy: 0.9045\n",
      "Epoch 69/1000\n",
      "1/4 [======>.......................] - ETA: 0s - loss: 0.6673 - accuracy: 0.7422\n",
      "Epoch 69: saving model to model/keypoint_classifier/keypoint_classifier.hdf5\n",
      "4/4 [==============================] - 0s 18ms/step - loss: 0.6417 - accuracy: 0.7633 - val_loss: 0.3847 - val_accuracy: 0.9172\n",
      "Epoch 70/1000\n",
      "1/4 [======>.......................] - ETA: 0s - loss: 0.5832 - accuracy: 0.7891\n",
      "Epoch 70: saving model to model/keypoint_classifier/keypoint_classifier.hdf5\n",
      "4/4 [==============================] - 0s 18ms/step - loss: 0.6346 - accuracy: 0.7591 - val_loss: 0.3770 - val_accuracy: 0.9172\n",
      "Epoch 71/1000\n",
      "1/4 [======>.......................] - ETA: 0s - loss: 0.6025 - accuracy: 0.7422\n",
      "Epoch 71: saving model to model/keypoint_classifier/keypoint_classifier.hdf5\n",
      "4/4 [==============================] - 0s 18ms/step - loss: 0.6079 - accuracy: 0.7697 - val_loss: 0.3720 - val_accuracy: 0.9172\n",
      "Epoch 72/1000\n",
      "1/4 [======>.......................] - ETA: 0s - loss: 0.6329 - accuracy: 0.7656\n",
      "Epoch 72: saving model to model/keypoint_classifier/keypoint_classifier.hdf5\n",
      "4/4 [==============================] - 0s 17ms/step - loss: 0.6233 - accuracy: 0.7569 - val_loss: 0.3718 - val_accuracy: 0.9172\n",
      "Epoch 73/1000\n",
      "1/4 [======>.......................] - ETA: 0s - loss: 0.6860 - accuracy: 0.7656\n",
      "Epoch 73: saving model to model/keypoint_classifier/keypoint_classifier.hdf5\n",
      "4/4 [==============================] - 0s 18ms/step - loss: 0.6498 - accuracy: 0.7505 - val_loss: 0.3761 - val_accuracy: 0.9045\n",
      "Epoch 74/1000\n",
      "1/4 [======>.......................] - ETA: 0s - loss: 0.5720 - accuracy: 0.8047\n",
      "Epoch 74: saving model to model/keypoint_classifier/keypoint_classifier.hdf5\n",
      "4/4 [==============================] - 0s 18ms/step - loss: 0.6037 - accuracy: 0.7697 - val_loss: 0.3786 - val_accuracy: 0.9045\n",
      "Epoch 75/1000\n",
      "1/4 [======>.......................] - ETA: 0s - loss: 0.6534 - accuracy: 0.7734\n",
      "Epoch 75: saving model to model/keypoint_classifier/keypoint_classifier.hdf5\n",
      "4/4 [==============================] - 0s 18ms/step - loss: 0.6190 - accuracy: 0.7719 - val_loss: 0.3795 - val_accuracy: 0.9045\n",
      "Epoch 76/1000\n",
      "1/4 [======>.......................] - ETA: 0s - loss: 0.6855 - accuracy: 0.7500\n",
      "Epoch 76: saving model to model/keypoint_classifier/keypoint_classifier.hdf5\n",
      "4/4 [==============================] - 0s 19ms/step - loss: 0.6060 - accuracy: 0.7676 - val_loss: 0.3751 - val_accuracy: 0.9045\n",
      "Epoch 77/1000\n",
      "1/4 [======>.......................] - ETA: 0s - loss: 0.6749 - accuracy: 0.7031\n",
      "Epoch 77: saving model to model/keypoint_classifier/keypoint_classifier.hdf5\n",
      "4/4 [==============================] - 0s 18ms/step - loss: 0.6145 - accuracy: 0.7420 - val_loss: 0.3650 - val_accuracy: 0.8981\n",
      "Epoch 78/1000\n",
      "1/4 [======>.......................] - ETA: 0s - loss: 0.5938 - accuracy: 0.7734\n",
      "Epoch 78: saving model to model/keypoint_classifier/keypoint_classifier.hdf5\n",
      "4/4 [==============================] - 0s 18ms/step - loss: 0.6173 - accuracy: 0.7761 - val_loss: 0.3555 - val_accuracy: 0.9108\n",
      "Epoch 79/1000\n",
      "1/4 [======>.......................] - ETA: 0s - loss: 0.5069 - accuracy: 0.7891\n",
      "Epoch 79: saving model to model/keypoint_classifier/keypoint_classifier.hdf5\n",
      "4/4 [==============================] - 0s 16ms/step - loss: 0.5883 - accuracy: 0.7697 - val_loss: 0.3499 - val_accuracy: 0.9108\n",
      "Epoch 80/1000\n",
      "1/4 [======>.......................] - ETA: 0s - loss: 0.5908 - accuracy: 0.7812\n",
      "Epoch 80: saving model to model/keypoint_classifier/keypoint_classifier.hdf5\n",
      "4/4 [==============================] - 0s 15ms/step - loss: 0.6029 - accuracy: 0.7996 - val_loss: 0.3463 - val_accuracy: 0.9236\n",
      "Epoch 81/1000\n",
      "1/4 [======>.......................] - ETA: 0s - loss: 0.5751 - accuracy: 0.7266\n",
      "Epoch 81: saving model to model/keypoint_classifier/keypoint_classifier.hdf5\n",
      "4/4 [==============================] - 0s 15ms/step - loss: 0.5577 - accuracy: 0.7846 - val_loss: 0.3414 - val_accuracy: 0.9299\n",
      "Epoch 82/1000\n",
      "1/4 [======>.......................] - ETA: 0s - loss: 0.6326 - accuracy: 0.7734\n",
      "Epoch 82: saving model to model/keypoint_classifier/keypoint_classifier.hdf5\n",
      "4/4 [==============================] - 0s 19ms/step - loss: 0.5967 - accuracy: 0.7825 - val_loss: 0.3355 - val_accuracy: 0.9299\n",
      "Epoch 83/1000\n",
      "1/4 [======>.......................] - ETA: 0s - loss: 0.6015 - accuracy: 0.7891\n",
      "Epoch 83: saving model to model/keypoint_classifier/keypoint_classifier.hdf5\n",
      "4/4 [==============================] - 0s 19ms/step - loss: 0.5693 - accuracy: 0.7655 - val_loss: 0.3313 - val_accuracy: 0.9299\n",
      "Epoch 84/1000\n",
      "1/4 [======>.......................] - ETA: 0s - loss: 0.6363 - accuracy: 0.7344\n",
      "Epoch 84: saving model to model/keypoint_classifier/keypoint_classifier.hdf5\n",
      "4/4 [==============================] - 0s 19ms/step - loss: 0.5581 - accuracy: 0.7974 - val_loss: 0.3300 - val_accuracy: 0.9299\n",
      "Epoch 85/1000\n",
      "1/4 [======>.......................] - ETA: 0s - loss: 0.5019 - accuracy: 0.8359\n",
      "Epoch 85: saving model to model/keypoint_classifier/keypoint_classifier.hdf5\n",
      "4/4 [==============================] - 0s 18ms/step - loss: 0.5479 - accuracy: 0.7932 - val_loss: 0.3285 - val_accuracy: 0.9299\n",
      "Epoch 86/1000\n",
      "1/4 [======>.......................] - ETA: 0s - loss: 0.5639 - accuracy: 0.7812\n",
      "Epoch 86: saving model to model/keypoint_classifier/keypoint_classifier.hdf5\n",
      "4/4 [==============================] - 0s 18ms/step - loss: 0.5976 - accuracy: 0.7846 - val_loss: 0.3271 - val_accuracy: 0.9299\n",
      "Epoch 87/1000\n",
      "1/4 [======>.......................] - ETA: 0s - loss: 0.5342 - accuracy: 0.7891\n",
      "Epoch 87: saving model to model/keypoint_classifier/keypoint_classifier.hdf5\n",
      "4/4 [==============================] - 0s 18ms/step - loss: 0.5426 - accuracy: 0.8038 - val_loss: 0.3238 - val_accuracy: 0.9299\n",
      "Epoch 88/1000\n",
      "1/4 [======>.......................] - ETA: 0s - loss: 0.4998 - accuracy: 0.7891\n",
      "Epoch 88: saving model to model/keypoint_classifier/keypoint_classifier.hdf5\n",
      "4/4 [==============================] - 0s 15ms/step - loss: 0.5730 - accuracy: 0.7697 - val_loss: 0.3198 - val_accuracy: 0.9299\n",
      "Epoch 89/1000\n",
      "1/4 [======>.......................] - ETA: 0s - loss: 0.5948 - accuracy: 0.7734\n",
      "Epoch 89: saving model to model/keypoint_classifier/keypoint_classifier.hdf5\n",
      "4/4 [==============================] - 0s 16ms/step - loss: 0.5795 - accuracy: 0.7825 - val_loss: 0.3140 - val_accuracy: 0.9299\n",
      "Epoch 90/1000\n",
      "1/4 [======>.......................] - ETA: 0s - loss: 0.5419 - accuracy: 0.7969\n",
      "Epoch 90: saving model to model/keypoint_classifier/keypoint_classifier.hdf5\n",
      "4/4 [==============================] - 0s 18ms/step - loss: 0.5829 - accuracy: 0.7825 - val_loss: 0.3080 - val_accuracy: 0.9299\n",
      "Epoch 91/1000\n",
      "1/4 [======>.......................] - ETA: 0s - loss: 0.6136 - accuracy: 0.7422\n",
      "Epoch 91: saving model to model/keypoint_classifier/keypoint_classifier.hdf5\n",
      "4/4 [==============================] - 0s 19ms/step - loss: 0.5669 - accuracy: 0.7953 - val_loss: 0.3020 - val_accuracy: 0.9299\n",
      "Epoch 92/1000\n",
      "1/4 [======>.......................] - ETA: 0s - loss: 0.5684 - accuracy: 0.8281\n",
      "Epoch 92: saving model to model/keypoint_classifier/keypoint_classifier.hdf5\n",
      "4/4 [==============================] - 0s 18ms/step - loss: 0.5722 - accuracy: 0.7953 - val_loss: 0.2982 - val_accuracy: 0.9299\n",
      "Epoch 93/1000\n",
      "1/4 [======>.......................] - ETA: 0s - loss: 0.6108 - accuracy: 0.7578\n",
      "Epoch 93: saving model to model/keypoint_classifier/keypoint_classifier.hdf5\n",
      "4/4 [==============================] - 0s 19ms/step - loss: 0.6048 - accuracy: 0.7719 - val_loss: 0.2960 - val_accuracy: 0.9363\n",
      "Epoch 94/1000\n",
      "1/4 [======>.......................] - ETA: 0s - loss: 0.5406 - accuracy: 0.8203\n",
      "Epoch 94: saving model to model/keypoint_classifier/keypoint_classifier.hdf5\n",
      "4/4 [==============================] - 0s 18ms/step - loss: 0.6014 - accuracy: 0.7761 - val_loss: 0.2980 - val_accuracy: 0.9363\n",
      "Epoch 95/1000\n",
      "1/4 [======>.......................] - ETA: 0s - loss: 0.5468 - accuracy: 0.8359\n",
      "Epoch 95: saving model to model/keypoint_classifier/keypoint_classifier.hdf5\n",
      "4/4 [==============================] - 0s 19ms/step - loss: 0.5543 - accuracy: 0.7974 - val_loss: 0.2983 - val_accuracy: 0.9363\n",
      "Epoch 96/1000\n",
      "1/4 [======>.......................] - ETA: 0s - loss: 0.4699 - accuracy: 0.8438\n",
      "Epoch 96: saving model to model/keypoint_classifier/keypoint_classifier.hdf5\n",
      "4/4 [==============================] - 0s 19ms/step - loss: 0.5456 - accuracy: 0.7910 - val_loss: 0.2955 - val_accuracy: 0.9363\n",
      "Epoch 97/1000\n",
      "1/4 [======>.......................] - ETA: 0s - loss: 0.5274 - accuracy: 0.7969\n",
      "Epoch 97: saving model to model/keypoint_classifier/keypoint_classifier.hdf5\n",
      "4/4 [==============================] - 0s 18ms/step - loss: 0.5534 - accuracy: 0.8252 - val_loss: 0.2911 - val_accuracy: 0.9363\n",
      "Epoch 98/1000\n",
      "1/4 [======>.......................] - ETA: 0s - loss: 0.6008 - accuracy: 0.7656\n",
      "Epoch 98: saving model to model/keypoint_classifier/keypoint_classifier.hdf5\n",
      "4/4 [==============================] - 0s 18ms/step - loss: 0.5500 - accuracy: 0.8038 - val_loss: 0.2869 - val_accuracy: 0.9490\n",
      "Epoch 99/1000\n",
      "1/4 [======>.......................] - ETA: 0s - loss: 0.4874 - accuracy: 0.8203\n",
      "Epoch 99: saving model to model/keypoint_classifier/keypoint_classifier.hdf5\n",
      "4/4 [==============================] - 0s 18ms/step - loss: 0.5050 - accuracy: 0.8017 - val_loss: 0.2826 - val_accuracy: 0.9490\n",
      "Epoch 100/1000\n",
      "1/4 [======>.......................] - ETA: 0s - loss: 0.4990 - accuracy: 0.8047\n",
      "Epoch 100: saving model to model/keypoint_classifier/keypoint_classifier.hdf5\n",
      "4/4 [==============================] - 0s 17ms/step - loss: 0.5040 - accuracy: 0.8038 - val_loss: 0.2811 - val_accuracy: 0.9490\n",
      "Epoch 101/1000\n",
      "1/4 [======>.......................] - ETA: 0s - loss: 0.5812 - accuracy: 0.8047\n",
      "Epoch 101: saving model to model/keypoint_classifier/keypoint_classifier.hdf5\n",
      "4/4 [==============================] - 0s 17ms/step - loss: 0.5363 - accuracy: 0.8081 - val_loss: 0.2801 - val_accuracy: 0.9363\n",
      "Epoch 102/1000\n",
      "1/4 [======>.......................] - ETA: 0s - loss: 0.4870 - accuracy: 0.8438\n",
      "Epoch 102: saving model to model/keypoint_classifier/keypoint_classifier.hdf5\n",
      "4/4 [==============================] - 0s 18ms/step - loss: 0.5259 - accuracy: 0.8060 - val_loss: 0.2797 - val_accuracy: 0.9363\n",
      "Epoch 103/1000\n",
      "1/4 [======>.......................] - ETA: 0s - loss: 0.4596 - accuracy: 0.8438\n",
      "Epoch 103: saving model to model/keypoint_classifier/keypoint_classifier.hdf5\n",
      "4/4 [==============================] - 0s 18ms/step - loss: 0.5460 - accuracy: 0.8017 - val_loss: 0.2794 - val_accuracy: 0.9427\n",
      "Epoch 104/1000\n",
      "1/4 [======>.......................] - ETA: 0s - loss: 0.5763 - accuracy: 0.7891\n",
      "Epoch 104: saving model to model/keypoint_classifier/keypoint_classifier.hdf5\n",
      "4/4 [==============================] - 0s 18ms/step - loss: 0.5503 - accuracy: 0.8017 - val_loss: 0.2772 - val_accuracy: 0.9427\n",
      "Epoch 105/1000\n",
      "1/4 [======>.......................] - ETA: 0s - loss: 0.5696 - accuracy: 0.7734\n",
      "Epoch 105: saving model to model/keypoint_classifier/keypoint_classifier.hdf5\n",
      "4/4 [==============================] - 0s 19ms/step - loss: 0.5141 - accuracy: 0.8230 - val_loss: 0.2759 - val_accuracy: 0.9490\n",
      "Epoch 106/1000\n",
      "1/4 [======>.......................] - ETA: 0s - loss: 0.5118 - accuracy: 0.7734\n",
      "Epoch 106: saving model to model/keypoint_classifier/keypoint_classifier.hdf5\n",
      "4/4 [==============================] - 0s 18ms/step - loss: 0.5346 - accuracy: 0.7804 - val_loss: 0.2737 - val_accuracy: 0.9490\n",
      "Epoch 107/1000\n",
      "1/4 [======>.......................] - ETA: 0s - loss: 0.5576 - accuracy: 0.7969\n",
      "Epoch 107: saving model to model/keypoint_classifier/keypoint_classifier.hdf5\n",
      "4/4 [==============================] - 0s 17ms/step - loss: 0.5299 - accuracy: 0.8017 - val_loss: 0.2700 - val_accuracy: 0.9427\n",
      "Epoch 108/1000\n",
      "1/4 [======>.......................] - ETA: 0s - loss: 0.5728 - accuracy: 0.7812\n",
      "Epoch 108: saving model to model/keypoint_classifier/keypoint_classifier.hdf5\n",
      "4/4 [==============================] - 0s 18ms/step - loss: 0.5148 - accuracy: 0.8102 - val_loss: 0.2654 - val_accuracy: 0.9427\n",
      "Epoch 109/1000\n",
      "1/4 [======>.......................] - ETA: 0s - loss: 0.5518 - accuracy: 0.7578\n",
      "Epoch 109: saving model to model/keypoint_classifier/keypoint_classifier.hdf5\n",
      "4/4 [==============================] - 0s 18ms/step - loss: 0.5068 - accuracy: 0.7974 - val_loss: 0.2641 - val_accuracy: 0.9427\n",
      "Epoch 110/1000\n",
      "1/4 [======>.......................] - ETA: 0s - loss: 0.4610 - accuracy: 0.8359\n",
      "Epoch 110: saving model to model/keypoint_classifier/keypoint_classifier.hdf5\n",
      "4/4 [==============================] - 0s 18ms/step - loss: 0.4976 - accuracy: 0.8316 - val_loss: 0.2656 - val_accuracy: 0.9427\n",
      "Epoch 111/1000\n",
      "1/4 [======>.......................] - ETA: 0s - loss: 0.5137 - accuracy: 0.8125\n",
      "Epoch 111: saving model to model/keypoint_classifier/keypoint_classifier.hdf5\n",
      "4/4 [==============================] - 0s 18ms/step - loss: 0.4983 - accuracy: 0.8294 - val_loss: 0.2619 - val_accuracy: 0.9427\n",
      "Epoch 112/1000\n",
      "1/4 [======>.......................] - ETA: 0s - loss: 0.5076 - accuracy: 0.7969\n",
      "Epoch 112: saving model to model/keypoint_classifier/keypoint_classifier.hdf5\n",
      "4/4 [==============================] - 0s 18ms/step - loss: 0.5171 - accuracy: 0.8081 - val_loss: 0.2587 - val_accuracy: 0.9554\n",
      "Epoch 113/1000\n",
      "1/4 [======>.......................] - ETA: 0s - loss: 0.5064 - accuracy: 0.8359\n",
      "Epoch 113: saving model to model/keypoint_classifier/keypoint_classifier.hdf5\n",
      "4/4 [==============================] - 0s 18ms/step - loss: 0.4679 - accuracy: 0.8422 - val_loss: 0.2574 - val_accuracy: 0.9554\n",
      "Epoch 114/1000\n",
      "1/4 [======>.......................] - ETA: 0s - loss: 0.4338 - accuracy: 0.8750\n",
      "Epoch 114: saving model to model/keypoint_classifier/keypoint_classifier.hdf5\n",
      "4/4 [==============================] - 0s 18ms/step - loss: 0.4890 - accuracy: 0.8380 - val_loss: 0.2562 - val_accuracy: 0.9490\n",
      "Epoch 115/1000\n",
      "1/4 [======>.......................] - ETA: 0s - loss: 0.4602 - accuracy: 0.8125\n",
      "Epoch 115: saving model to model/keypoint_classifier/keypoint_classifier.hdf5\n",
      "4/4 [==============================] - 0s 17ms/step - loss: 0.4526 - accuracy: 0.8252 - val_loss: 0.2546 - val_accuracy: 0.9490\n",
      "Epoch 116/1000\n",
      "1/4 [======>.......................] - ETA: 0s - loss: 0.4855 - accuracy: 0.8281\n",
      "Epoch 116: saving model to model/keypoint_classifier/keypoint_classifier.hdf5\n",
      "4/4 [==============================] - 0s 18ms/step - loss: 0.4929 - accuracy: 0.8273 - val_loss: 0.2522 - val_accuracy: 0.9490\n",
      "Epoch 117/1000\n",
      "1/4 [======>.......................] - ETA: 0s - loss: 0.5656 - accuracy: 0.8281\n",
      "Epoch 117: saving model to model/keypoint_classifier/keypoint_classifier.hdf5\n",
      "4/4 [==============================] - 0s 18ms/step - loss: 0.4799 - accuracy: 0.8358 - val_loss: 0.2494 - val_accuracy: 0.9490\n",
      "Epoch 118/1000\n",
      "1/4 [======>.......................] - ETA: 0s - loss: 0.4000 - accuracy: 0.9062\n",
      "Epoch 118: saving model to model/keypoint_classifier/keypoint_classifier.hdf5\n",
      "4/4 [==============================] - 0s 16ms/step - loss: 0.4286 - accuracy: 0.8507 - val_loss: 0.2432 - val_accuracy: 0.9490\n",
      "Epoch 119/1000\n",
      "1/4 [======>.......................] - ETA: 0s - loss: 0.4453 - accuracy: 0.8281\n",
      "Epoch 119: saving model to model/keypoint_classifier/keypoint_classifier.hdf5\n",
      "4/4 [==============================] - 0s 16ms/step - loss: 0.4923 - accuracy: 0.8209 - val_loss: 0.2379 - val_accuracy: 0.9554\n",
      "Epoch 120/1000\n",
      "1/4 [======>.......................] - ETA: 0s - loss: 0.4631 - accuracy: 0.8281\n",
      "Epoch 120: saving model to model/keypoint_classifier/keypoint_classifier.hdf5\n",
      "4/4 [==============================] - 0s 18ms/step - loss: 0.5109 - accuracy: 0.8145 - val_loss: 0.2380 - val_accuracy: 0.9490\n",
      "Epoch 121/1000\n",
      "1/4 [======>.......................] - ETA: 0s - loss: 0.5992 - accuracy: 0.8203\n",
      "Epoch 121: saving model to model/keypoint_classifier/keypoint_classifier.hdf5\n",
      "4/4 [==============================] - 0s 17ms/step - loss: 0.4838 - accuracy: 0.8401 - val_loss: 0.2425 - val_accuracy: 0.9490\n",
      "Epoch 122/1000\n",
      "1/4 [======>.......................] - ETA: 0s - loss: 0.4751 - accuracy: 0.8359\n",
      "Epoch 122: saving model to model/keypoint_classifier/keypoint_classifier.hdf5\n",
      "4/4 [==============================] - 0s 15ms/step - loss: 0.4721 - accuracy: 0.8145 - val_loss: 0.2453 - val_accuracy: 0.9490\n",
      "Epoch 123/1000\n",
      "1/4 [======>.......................] - ETA: 0s - loss: 0.4206 - accuracy: 0.8438\n",
      "Epoch 123: saving model to model/keypoint_classifier/keypoint_classifier.hdf5\n",
      "4/4 [==============================] - 0s 17ms/step - loss: 0.4987 - accuracy: 0.8166 - val_loss: 0.2479 - val_accuracy: 0.9490\n",
      "Epoch 124/1000\n",
      "1/4 [======>.......................] - ETA: 0s - loss: 0.4579 - accuracy: 0.8438\n",
      "Epoch 124: saving model to model/keypoint_classifier/keypoint_classifier.hdf5\n",
      "4/4 [==============================] - 0s 18ms/step - loss: 0.4708 - accuracy: 0.8443 - val_loss: 0.2438 - val_accuracy: 0.9490\n",
      "Epoch 125/1000\n",
      "1/4 [======>.......................] - ETA: 0s - loss: 0.4822 - accuracy: 0.8281\n",
      "Epoch 125: saving model to model/keypoint_classifier/keypoint_classifier.hdf5\n",
      "4/4 [==============================] - 0s 18ms/step - loss: 0.4396 - accuracy: 0.8507 - val_loss: 0.2386 - val_accuracy: 0.9554\n",
      "Epoch 126/1000\n",
      "1/4 [======>.......................] - ETA: 0s - loss: 0.3949 - accuracy: 0.8594\n",
      "Epoch 126: saving model to model/keypoint_classifier/keypoint_classifier.hdf5\n",
      "4/4 [==============================] - 0s 17ms/step - loss: 0.4285 - accuracy: 0.8486 - val_loss: 0.2349 - val_accuracy: 0.9554\n",
      "Epoch 127/1000\n",
      "1/4 [======>.......................] - ETA: 0s - loss: 0.4918 - accuracy: 0.8047\n",
      "Epoch 127: saving model to model/keypoint_classifier/keypoint_classifier.hdf5\n",
      "4/4 [==============================] - 0s 17ms/step - loss: 0.4270 - accuracy: 0.8401 - val_loss: 0.2326 - val_accuracy: 0.9554\n",
      "Epoch 128/1000\n",
      "1/4 [======>.......................] - ETA: 0s - loss: 0.4304 - accuracy: 0.8594\n",
      "Epoch 128: saving model to model/keypoint_classifier/keypoint_classifier.hdf5\n",
      "4/4 [==============================] - 0s 18ms/step - loss: 0.4371 - accuracy: 0.8443 - val_loss: 0.2322 - val_accuracy: 0.9554\n",
      "Epoch 129/1000\n",
      "1/4 [======>.......................] - ETA: 0s - loss: 0.3952 - accuracy: 0.8906\n",
      "Epoch 129: saving model to model/keypoint_classifier/keypoint_classifier.hdf5\n",
      "4/4 [==============================] - 0s 17ms/step - loss: 0.4516 - accuracy: 0.8486 - val_loss: 0.2307 - val_accuracy: 0.9554\n",
      "Epoch 130/1000\n",
      "1/4 [======>.......................] - ETA: 0s - loss: 0.4820 - accuracy: 0.8047\n",
      "Epoch 130: saving model to model/keypoint_classifier/keypoint_classifier.hdf5\n",
      "4/4 [==============================] - 0s 20ms/step - loss: 0.4795 - accuracy: 0.8337 - val_loss: 0.2298 - val_accuracy: 0.9554\n",
      "Epoch 131/1000\n",
      "1/4 [======>.......................] - ETA: 0s - loss: 0.4430 - accuracy: 0.8516\n",
      "Epoch 131: saving model to model/keypoint_classifier/keypoint_classifier.hdf5\n",
      "4/4 [==============================] - 0s 20ms/step - loss: 0.4603 - accuracy: 0.8401 - val_loss: 0.2315 - val_accuracy: 0.9490\n",
      "Epoch 132/1000\n",
      "1/4 [======>.......................] - ETA: 0s - loss: 0.4021 - accuracy: 0.8516\n",
      "Epoch 132: saving model to model/keypoint_classifier/keypoint_classifier.hdf5\n",
      "4/4 [==============================] - 0s 18ms/step - loss: 0.4323 - accuracy: 0.8443 - val_loss: 0.2284 - val_accuracy: 0.9554\n",
      "Epoch 133/1000\n",
      "1/4 [======>.......................] - ETA: 0s - loss: 0.4048 - accuracy: 0.8906\n",
      "Epoch 133: saving model to model/keypoint_classifier/keypoint_classifier.hdf5\n",
      "4/4 [==============================] - 0s 18ms/step - loss: 0.4340 - accuracy: 0.8550 - val_loss: 0.2238 - val_accuracy: 0.9554\n",
      "Epoch 134/1000\n",
      "1/4 [======>.......................] - ETA: 0s - loss: 0.4931 - accuracy: 0.8281\n",
      "Epoch 134: saving model to model/keypoint_classifier/keypoint_classifier.hdf5\n",
      "4/4 [==============================] - 0s 17ms/step - loss: 0.4227 - accuracy: 0.8529 - val_loss: 0.2185 - val_accuracy: 0.9554\n",
      "Epoch 135/1000\n",
      "1/4 [======>.......................] - ETA: 0s - loss: 0.4123 - accuracy: 0.8516\n",
      "Epoch 135: saving model to model/keypoint_classifier/keypoint_classifier.hdf5\n",
      "4/4 [==============================] - 0s 18ms/step - loss: 0.4763 - accuracy: 0.8443 - val_loss: 0.2154 - val_accuracy: 0.9554\n",
      "Epoch 136/1000\n",
      "1/4 [======>.......................] - ETA: 0s - loss: 0.4993 - accuracy: 0.7734\n",
      "Epoch 136: saving model to model/keypoint_classifier/keypoint_classifier.hdf5\n",
      "4/4 [==============================] - 0s 17ms/step - loss: 0.4715 - accuracy: 0.8102 - val_loss: 0.2122 - val_accuracy: 0.9554\n",
      "Epoch 137/1000\n",
      "1/4 [======>.......................] - ETA: 0s - loss: 0.4164 - accuracy: 0.8359\n",
      "Epoch 137: saving model to model/keypoint_classifier/keypoint_classifier.hdf5\n",
      "4/4 [==============================] - 0s 17ms/step - loss: 0.4688 - accuracy: 0.8166 - val_loss: 0.2135 - val_accuracy: 0.9554\n",
      "Epoch 138/1000\n",
      "1/4 [======>.......................] - ETA: 0s - loss: 0.5298 - accuracy: 0.7891\n",
      "Epoch 138: saving model to model/keypoint_classifier/keypoint_classifier.hdf5\n",
      "4/4 [==============================] - 0s 18ms/step - loss: 0.4706 - accuracy: 0.8316 - val_loss: 0.2141 - val_accuracy: 0.9554\n",
      "Epoch 139/1000\n",
      "1/4 [======>.......................] - ETA: 0s - loss: 0.4298 - accuracy: 0.8594\n",
      "Epoch 139: saving model to model/keypoint_classifier/keypoint_classifier.hdf5\n",
      "4/4 [==============================] - 0s 18ms/step - loss: 0.4830 - accuracy: 0.8230 - val_loss: 0.2177 - val_accuracy: 0.9554\n",
      "Epoch 140/1000\n",
      "1/4 [======>.......................] - ETA: 0s - loss: 0.3909 - accuracy: 0.8516\n",
      "Epoch 140: saving model to model/keypoint_classifier/keypoint_classifier.hdf5\n",
      "4/4 [==============================] - 0s 18ms/step - loss: 0.4539 - accuracy: 0.8209 - val_loss: 0.2206 - val_accuracy: 0.9554\n",
      "Epoch 141/1000\n",
      "1/4 [======>.......................] - ETA: 0s - loss: 0.4544 - accuracy: 0.8359\n",
      "Epoch 141: saving model to model/keypoint_classifier/keypoint_classifier.hdf5\n",
      "4/4 [==============================] - 0s 18ms/step - loss: 0.4398 - accuracy: 0.8422 - val_loss: 0.2207 - val_accuracy: 0.9554\n",
      "Epoch 142/1000\n",
      "1/4 [======>.......................] - ETA: 0s - loss: 0.5017 - accuracy: 0.7969\n",
      "Epoch 142: saving model to model/keypoint_classifier/keypoint_classifier.hdf5\n",
      "4/4 [==============================] - 0s 18ms/step - loss: 0.4560 - accuracy: 0.8486 - val_loss: 0.2219 - val_accuracy: 0.9490\n",
      "Epoch 143/1000\n",
      "1/4 [======>.......................] - ETA: 0s - loss: 0.3888 - accuracy: 0.8438\n",
      "Epoch 143: saving model to model/keypoint_classifier/keypoint_classifier.hdf5\n",
      "4/4 [==============================] - 0s 17ms/step - loss: 0.4117 - accuracy: 0.8443 - val_loss: 0.2239 - val_accuracy: 0.9490\n",
      "Epoch 144/1000\n",
      "1/4 [======>.......................] - ETA: 0s - loss: 0.3012 - accuracy: 0.9297\n",
      "Epoch 144: saving model to model/keypoint_classifier/keypoint_classifier.hdf5\n",
      "4/4 [==============================] - 0s 18ms/step - loss: 0.4455 - accuracy: 0.8465 - val_loss: 0.2224 - val_accuracy: 0.9490\n",
      "Epoch 145/1000\n",
      "1/4 [======>.......................] - ETA: 0s - loss: 0.3758 - accuracy: 0.8516\n",
      "Epoch 145: saving model to model/keypoint_classifier/keypoint_classifier.hdf5\n",
      "4/4 [==============================] - 0s 18ms/step - loss: 0.4297 - accuracy: 0.8529 - val_loss: 0.2204 - val_accuracy: 0.9490\n",
      "Epoch 146/1000\n",
      "1/4 [======>.......................] - ETA: 0s - loss: 0.3728 - accuracy: 0.9141\n",
      "Epoch 146: saving model to model/keypoint_classifier/keypoint_classifier.hdf5\n",
      "4/4 [==============================] - 0s 18ms/step - loss: 0.4323 - accuracy: 0.8550 - val_loss: 0.2188 - val_accuracy: 0.9490\n",
      "Epoch 147/1000\n",
      "1/4 [======>.......................] - ETA: 0s - loss: 0.4057 - accuracy: 0.8438\n",
      "Epoch 147: saving model to model/keypoint_classifier/keypoint_classifier.hdf5\n",
      "4/4 [==============================] - 0s 18ms/step - loss: 0.4132 - accuracy: 0.8529 - val_loss: 0.2176 - val_accuracy: 0.9490\n",
      "Epoch 148/1000\n",
      "1/4 [======>.......................] - ETA: 0s - loss: 0.4351 - accuracy: 0.8359\n",
      "Epoch 148: saving model to model/keypoint_classifier/keypoint_classifier.hdf5\n",
      "4/4 [==============================] - 0s 18ms/step - loss: 0.4548 - accuracy: 0.8316 - val_loss: 0.2160 - val_accuracy: 0.9490\n",
      "Epoch 149/1000\n",
      "1/4 [======>.......................] - ETA: 0s - loss: 0.5522 - accuracy: 0.7891\n",
      "Epoch 149: saving model to model/keypoint_classifier/keypoint_classifier.hdf5\n",
      "4/4 [==============================] - 0s 19ms/step - loss: 0.4161 - accuracy: 0.8593 - val_loss: 0.2137 - val_accuracy: 0.9490\n",
      "Epoch 150/1000\n",
      "1/4 [======>.......................] - ETA: 0s - loss: 0.3776 - accuracy: 0.8438\n",
      "Epoch 150: saving model to model/keypoint_classifier/keypoint_classifier.hdf5\n",
      "4/4 [==============================] - 0s 17ms/step - loss: 0.3986 - accuracy: 0.8635 - val_loss: 0.2117 - val_accuracy: 0.9490\n",
      "Epoch 151/1000\n",
      "1/4 [======>.......................] - ETA: 0s - loss: 0.4253 - accuracy: 0.8672\n",
      "Epoch 151: saving model to model/keypoint_classifier/keypoint_classifier.hdf5\n",
      "4/4 [==============================] - 0s 18ms/step - loss: 0.3982 - accuracy: 0.8721 - val_loss: 0.2083 - val_accuracy: 0.9554\n",
      "Epoch 152/1000\n",
      "1/4 [======>.......................] - ETA: 0s - loss: 0.4687 - accuracy: 0.8125\n",
      "Epoch 152: saving model to model/keypoint_classifier/keypoint_classifier.hdf5\n",
      "4/4 [==============================] - 0s 18ms/step - loss: 0.4191 - accuracy: 0.8571 - val_loss: 0.2053 - val_accuracy: 0.9554\n",
      "Epoch 153/1000\n",
      "1/4 [======>.......................] - ETA: 0s - loss: 0.4484 - accuracy: 0.8359\n",
      "Epoch 153: saving model to model/keypoint_classifier/keypoint_classifier.hdf5\n",
      "4/4 [==============================] - 0s 17ms/step - loss: 0.3984 - accuracy: 0.8486 - val_loss: 0.2011 - val_accuracy: 0.9554\n",
      "Epoch 154/1000\n",
      "1/4 [======>.......................] - ETA: 0s - loss: 0.4944 - accuracy: 0.7734\n",
      "Epoch 154: saving model to model/keypoint_classifier/keypoint_classifier.hdf5\n",
      "4/4 [==============================] - 0s 18ms/step - loss: 0.3903 - accuracy: 0.8507 - val_loss: 0.1962 - val_accuracy: 0.9554\n",
      "Epoch 155/1000\n",
      "1/4 [======>.......................] - ETA: 0s - loss: 0.3314 - accuracy: 0.8984\n",
      "Epoch 155: saving model to model/keypoint_classifier/keypoint_classifier.hdf5\n",
      "4/4 [==============================] - 0s 18ms/step - loss: 0.3867 - accuracy: 0.8529 - val_loss: 0.1925 - val_accuracy: 0.9554\n",
      "Epoch 156/1000\n",
      "1/4 [======>.......................] - ETA: 0s - loss: 0.4970 - accuracy: 0.7969\n",
      "Epoch 156: saving model to model/keypoint_classifier/keypoint_classifier.hdf5\n",
      "4/4 [==============================] - 0s 18ms/step - loss: 0.4302 - accuracy: 0.8337 - val_loss: 0.1908 - val_accuracy: 0.9554\n",
      "Epoch 157/1000\n",
      "1/4 [======>.......................] - ETA: 0s - loss: 0.4021 - accuracy: 0.8828\n",
      "Epoch 157: saving model to model/keypoint_classifier/keypoint_classifier.hdf5\n",
      "4/4 [==============================] - 0s 14ms/step - loss: 0.3927 - accuracy: 0.8806 - val_loss: 0.1938 - val_accuracy: 0.9554\n",
      "Epoch 158/1000\n",
      "1/4 [======>.......................] - ETA: 0s - loss: 0.4186 - accuracy: 0.8828\n",
      "Epoch 158: saving model to model/keypoint_classifier/keypoint_classifier.hdf5\n",
      "4/4 [==============================] - 0s 16ms/step - loss: 0.4001 - accuracy: 0.8571 - val_loss: 0.1975 - val_accuracy: 0.9554\n",
      "Epoch 159/1000\n",
      "1/4 [======>.......................] - ETA: 0s - loss: 0.4545 - accuracy: 0.7969\n",
      "Epoch 159: saving model to model/keypoint_classifier/keypoint_classifier.hdf5\n",
      "4/4 [==============================] - 0s 17ms/step - loss: 0.4241 - accuracy: 0.8443 - val_loss: 0.1992 - val_accuracy: 0.9554\n",
      "Epoch 160/1000\n",
      "1/4 [======>.......................] - ETA: 0s - loss: 0.3521 - accuracy: 0.8828\n",
      "Epoch 160: saving model to model/keypoint_classifier/keypoint_classifier.hdf5\n",
      "4/4 [==============================] - 0s 15ms/step - loss: 0.3709 - accuracy: 0.8742 - val_loss: 0.2000 - val_accuracy: 0.9554\n",
      "Epoch 161/1000\n",
      "1/4 [======>.......................] - ETA: 0s - loss: 0.3500 - accuracy: 0.8594\n",
      "Epoch 161: saving model to model/keypoint_classifier/keypoint_classifier.hdf5\n",
      "4/4 [==============================] - 0s 18ms/step - loss: 0.3947 - accuracy: 0.8550 - val_loss: 0.2023 - val_accuracy: 0.9554\n",
      "Epoch 162/1000\n",
      "1/4 [======>.......................] - ETA: 0s - loss: 0.4743 - accuracy: 0.8359\n",
      "Epoch 162: saving model to model/keypoint_classifier/keypoint_classifier.hdf5\n",
      "4/4 [==============================] - 0s 18ms/step - loss: 0.3925 - accuracy: 0.8657 - val_loss: 0.2024 - val_accuracy: 0.9554\n",
      "Epoch 163/1000\n",
      "1/4 [======>.......................] - ETA: 0s - loss: 0.3438 - accuracy: 0.8594\n",
      "Epoch 163: saving model to model/keypoint_classifier/keypoint_classifier.hdf5\n",
      "4/4 [==============================] - 0s 18ms/step - loss: 0.4429 - accuracy: 0.8209 - val_loss: 0.2001 - val_accuracy: 0.9554\n",
      "Epoch 164/1000\n",
      "1/4 [======>.......................] - ETA: 0s - loss: 0.4598 - accuracy: 0.8594\n",
      "Epoch 164: saving model to model/keypoint_classifier/keypoint_classifier.hdf5\n",
      "4/4 [==============================] - 0s 16ms/step - loss: 0.4398 - accuracy: 0.8486 - val_loss: 0.1981 - val_accuracy: 0.9554\n",
      "Epoch 165/1000\n",
      "1/4 [======>.......................] - ETA: 0s - loss: 0.4078 - accuracy: 0.8672\n",
      "Epoch 165: saving model to model/keypoint_classifier/keypoint_classifier.hdf5\n",
      "4/4 [==============================] - 0s 15ms/step - loss: 0.4400 - accuracy: 0.8443 - val_loss: 0.1988 - val_accuracy: 0.9554\n",
      "Epoch 166/1000\n",
      "1/4 [======>.......................] - ETA: 0s - loss: 0.4200 - accuracy: 0.8828\n",
      "Epoch 166: saving model to model/keypoint_classifier/keypoint_classifier.hdf5\n",
      "4/4 [==============================] - 0s 16ms/step - loss: 0.4206 - accuracy: 0.8699 - val_loss: 0.2003 - val_accuracy: 0.9554\n",
      "Epoch 167/1000\n",
      "1/4 [======>.......................] - ETA: 0s - loss: 0.4623 - accuracy: 0.8359\n",
      "Epoch 167: saving model to model/keypoint_classifier/keypoint_classifier.hdf5\n",
      "4/4 [==============================] - 0s 21ms/step - loss: 0.4411 - accuracy: 0.8380 - val_loss: 0.2038 - val_accuracy: 0.9554\n",
      "Epoch 168/1000\n",
      "1/4 [======>.......................] - ETA: 0s - loss: 0.3988 - accuracy: 0.8594\n",
      "Epoch 168: saving model to model/keypoint_classifier/keypoint_classifier.hdf5\n",
      "4/4 [==============================] - 0s 17ms/step - loss: 0.3628 - accuracy: 0.8699 - val_loss: 0.2046 - val_accuracy: 0.9490\n",
      "Epoch 169/1000\n",
      "1/4 [======>.......................] - ETA: 0s - loss: 0.4486 - accuracy: 0.7891\n",
      "Epoch 169: saving model to model/keypoint_classifier/keypoint_classifier.hdf5\n",
      "4/4 [==============================] - 0s 18ms/step - loss: 0.4211 - accuracy: 0.8316 - val_loss: 0.2043 - val_accuracy: 0.9490\n",
      "Epoch 170/1000\n",
      "1/4 [======>.......................] - ETA: 0s - loss: 0.3449 - accuracy: 0.8906\n",
      "Epoch 170: saving model to model/keypoint_classifier/keypoint_classifier.hdf5\n",
      "4/4 [==============================] - 0s 18ms/step - loss: 0.4300 - accuracy: 0.8571 - val_loss: 0.2048 - val_accuracy: 0.9490\n",
      "Epoch 171/1000\n",
      "1/4 [======>.......................] - ETA: 0s - loss: 0.3549 - accuracy: 0.8672\n",
      "Epoch 171: saving model to model/keypoint_classifier/keypoint_classifier.hdf5\n",
      "4/4 [==============================] - 0s 18ms/step - loss: 0.3860 - accuracy: 0.8678 - val_loss: 0.2018 - val_accuracy: 0.9554\n",
      "Epoch 172/1000\n",
      "1/4 [======>.......................] - ETA: 0s - loss: 0.4145 - accuracy: 0.8672\n",
      "Epoch 172: saving model to model/keypoint_classifier/keypoint_classifier.hdf5\n",
      "4/4 [==============================] - 0s 18ms/step - loss: 0.4226 - accuracy: 0.8443 - val_loss: 0.1995 - val_accuracy: 0.9554\n",
      "Epoch 173/1000\n",
      "1/4 [======>.......................] - ETA: 0s - loss: 0.3282 - accuracy: 0.8828\n",
      "Epoch 173: saving model to model/keypoint_classifier/keypoint_classifier.hdf5\n",
      "4/4 [==============================] - 0s 17ms/step - loss: 0.4051 - accuracy: 0.8849 - val_loss: 0.1968 - val_accuracy: 0.9554\n",
      "Epoch 174/1000\n",
      "1/4 [======>.......................] - ETA: 0s - loss: 0.4034 - accuracy: 0.8594\n",
      "Epoch 174: saving model to model/keypoint_classifier/keypoint_classifier.hdf5\n",
      "4/4 [==============================] - 0s 18ms/step - loss: 0.4048 - accuracy: 0.8507 - val_loss: 0.1950 - val_accuracy: 0.9554\n",
      "Epoch 175/1000\n",
      "1/4 [======>.......................] - ETA: 0s - loss: 0.4454 - accuracy: 0.8359\n",
      "Epoch 175: saving model to model/keypoint_classifier/keypoint_classifier.hdf5\n",
      "4/4 [==============================] - 0s 17ms/step - loss: 0.4026 - accuracy: 0.8699 - val_loss: 0.1949 - val_accuracy: 0.9554\n",
      "Epoch 176/1000\n",
      "1/4 [======>.......................] - ETA: 0s - loss: 0.4264 - accuracy: 0.8281\n",
      "Epoch 176: saving model to model/keypoint_classifier/keypoint_classifier.hdf5\n",
      "4/4 [==============================] - 0s 19ms/step - loss: 0.3577 - accuracy: 0.8827 - val_loss: 0.1936 - val_accuracy: 0.9554\n",
      "Epoch 176: early stopping\n"
     ]
    },
    {
     "data": {
      "text/plain": [
       "<keras.callbacks.History at 0x7faea0258d90>"
      ]
     },
     "execution_count": 255,
     "metadata": {},
     "output_type": "execute_result"
    }
   ],
   "source": [
    "model.fit(\n",
    "    X_train,\n",
    "    y_train,\n",
    "    epochs=1000,\n",
    "    batch_size=128,\n",
    "    validation_data=(X_test, y_test),\n",
    "    callbacks=[cp_callback, es_callback]\n",
    ")"
   ]
  },
  {
   "cell_type": "code",
   "execution_count": 256,
   "metadata": {
    "colab": {
     "base_uri": "https://localhost:8080/"
    },
    "id": "pxvb2Y299hE3",
    "outputId": "59eb3185-2e37-4b9e-bc9d-ab1b8ac29b7f"
   },
   "outputs": [
    {
     "name": "stdout",
     "output_type": "stream",
     "text": [
      "2/2 [==============================] - 0s 2ms/step - loss: 0.1936 - accuracy: 0.9554\n"
     ]
    }
   ],
   "source": [
    "# Model evaluation\n",
    "val_loss, val_acc = model.evaluate(X_test, y_test, batch_size=128)"
   ]
  },
  {
   "cell_type": "code",
   "execution_count": 257,
   "metadata": {
    "id": "RBkmDeUW9hE4"
   },
   "outputs": [],
   "source": [
    "# Loading the saved model\n",
    "model = tf.keras.models.load_model(model_save_path)"
   ]
  },
  {
   "cell_type": "code",
   "execution_count": 258,
   "metadata": {
    "colab": {
     "base_uri": "https://localhost:8080/"
    },
    "id": "tFz9Tb0I9hE4",
    "outputId": "1c3b3528-54ae-4ee2-ab04-77429211cbef"
   },
   "outputs": [
    {
     "name": "stdout",
     "output_type": "stream",
     "text": [
      "[3.1545525e-04 1.9889994e-04 3.4272086e-02 9.6521354e-01]\n",
      "3\n"
     ]
    }
   ],
   "source": [
    "# Inference test\n",
    "predict_result = model.predict(np.array([X_test[0]]))\n",
    "print(np.squeeze(predict_result))\n",
    "print(np.argmax(np.squeeze(predict_result)))"
   ]
  },
  {
   "cell_type": "markdown",
   "metadata": {
    "id": "S3U4yNWx9hE4"
   },
   "source": [
    "# Confusion matrix"
   ]
  },
  {
   "cell_type": "code",
   "execution_count": 259,
   "metadata": {
    "colab": {
     "base_uri": "https://localhost:8080/",
     "height": 582
    },
    "id": "AP1V6SCk9hE5",
    "outputId": "08e41a80-7a4a-4619-8125-ecc371368d19"
   },
   "outputs": [
    {
     "data": {
      "image/png": "[encoded data removed]",
      "text/plain": [
       "<Figure size 504x432 with 2 Axes>"
      ]
     },
     "metadata": {
      "needs_background": "light"
     },
     "output_type": "display_data"
    },
    {
     "name": "stdout",
     "output_type": "stream",
     "text": [
      "Classification Report\n",
      "              precision    recall  f1-score   support\n",
      "\n",
      "           0       1.00      0.76      0.86        29\n",
      "           1       1.00      1.00      1.00        25\n",
      "           2       0.93      1.00      0.96        88\n",
      "           3       1.00      1.00      1.00        15\n",
      "\n",
      "    accuracy                           0.96       157\n",
      "   macro avg       0.98      0.94      0.96       157\n",
      "weighted avg       0.96      0.96      0.95       157\n",
      "\n"
     ]
    }
   ],
   "source": [
    "import pandas as pd\n",
    "import seaborn as sns\n",
    "import matplotlib.pyplot as plt\n",
    "from sklearn.metrics import confusion_matrix, classification_report\n",
    "\n",
    "def print_confusion_matrix(y_true, y_pred, report=True):\n",
    "    labels = sorted(list(set(y_true)))\n",
    "    cmx_data = confusion_matrix(y_true, y_pred, labels=labels)\n",
    "    \n",
    "    df_cmx = pd.DataFrame(cmx_data, index=labels, columns=labels)\n",
    " \n",
    "    fig, ax = plt.subplots(figsize=(7, 6))\n",
    "    sns.heatmap(df_cmx, annot=True, fmt='g' ,square=False)\n",
    "    ax.set_ylim(len(set(y_true)), 0)\n",
    "    plt.show()\n",
    "    \n",
    "    if report:\n",
    "        print('Classification Report')\n",
    "        print(classification_report(y_test, y_pred))\n",
    "\n",
    "Y_pred = model.predict(X_test)\n",
    "y_pred = np.argmax(Y_pred, axis=1)\n",
    "\n",
    "print_confusion_matrix(y_test, y_pred)"
   ]
  },
  {
   "cell_type": "markdown",
   "metadata": {
    "id": "FNP6aqzc9hE5"
   },
   "source": [
    "# Convert to model for Tensorflow-Lite"
   ]
  },
  {
   "cell_type": "code",
   "execution_count": 260,
   "metadata": {
    "id": "ODjnYyld9hE6"
   },
   "outputs": [],
   "source": [
    "# Save as a model dedicated to inference\n",
    "model.save(model_save_path, include_optimizer=False)"
   ]
  },
  {
   "cell_type": "code",
   "execution_count": 261,
   "metadata": {
    "colab": {
     "base_uri": "https://localhost:8080/"
    },
    "id": "zRfuK8Y59hE6",
    "outputId": "a4ca585c-b5d5-4244-8291-8674063209bb"
   },
   "outputs": [
    {
     "name": "stdout",
     "output_type": "stream",
     "text": [
      "INFO:tensorflow:Assets written to: /var/folders/1g/z0p4n10x0x1crx0r9v9tk2q00000gn/T/tmpe0qpcy4t/assets\n"
     ]
    },
    {
     "name": "stderr",
     "output_type": "stream",
     "text": [
      "INFO:tensorflow:Assets written to: /var/folders/1g/z0p4n10x0x1crx0r9v9tk2q00000gn/T/tmpe0qpcy4t/assets\n",
      "2022-04-20 10:33:14.973665: W tensorflow/compiler/mlir/lite/python/tf_tfl_flatbuffer_helpers.cc:357] Ignored output_format.\n",
      "2022-04-20 10:33:14.973681: W tensorflow/compiler/mlir/lite/python/tf_tfl_flatbuffer_helpers.cc:360] Ignored drop_control_dependency.\n",
      "WARNING:absl:Buffer deduplication procedure will be skipped when flatbuffer library is not properly loaded\n",
      "2022-04-20 10:33:14.974160: I tensorflow/cc/saved_model/reader.cc:43] Reading SavedModel from: /var/folders/1g/z0p4n10x0x1crx0r9v9tk2q00000gn/T/tmpe0qpcy4t\n",
      "2022-04-20 10:33:14.975799: I tensorflow/cc/saved_model/reader.cc:78] Reading meta graph with tags { serve }\n",
      "2022-04-20 10:33:14.975813: I tensorflow/cc/saved_model/reader.cc:119] Reading SavedModel debug info (if present) from: /var/folders/1g/z0p4n10x0x1crx0r9v9tk2q00000gn/T/tmpe0qpcy4t\n",
      "2022-04-20 10:33:14.983503: I tensorflow/cc/saved_model/loader.cc:228] Restoring SavedModel bundle.\n",
      "2022-04-20 10:33:15.045526: I tensorflow/cc/saved_model/loader.cc:212] Running initialization op on SavedModel bundle at path: /var/folders/1g/z0p4n10x0x1crx0r9v9tk2q00000gn/T/tmpe0qpcy4t\n",
      "2022-04-20 10:33:15.064765: I tensorflow/cc/saved_model/loader.cc:301] SavedModel load for tags { serve }; Status: success: OK. Took 90606 microseconds.\n",
      "2022-04-20 10:33:15.236883: I tensorflow/lite/tools/optimize/quantize_weights.cc:225] Skipping quantization of tensor sequential_13/dense_39/MatMul because it has fewer than 1024 elements (840).\n",
      "2022-04-20 10:33:15.236898: I tensorflow/lite/tools/optimize/quantize_weights.cc:225] Skipping quantization of tensor sequential_13/dense_40/MatMul because it has fewer than 1024 elements (200).\n",
      "2022-04-20 10:33:15.236903: I tensorflow/lite/tools/optimize/quantize_weights.cc:225] Skipping quantization of tensor sequential_13/dense_41/MatMul because it has fewer than 1024 elements (40).\n"
     ]
    },
    {
     "data": {
      "text/plain": [
       "6464"
      ]
     },
     "execution_count": 261,
     "metadata": {},
     "output_type": "execute_result"
    }
   ],
   "source": [
    "# Transform model (quantization)\n",
    "\n",
    "converter = tf.lite.TFLiteConverter.from_keras_model(model)\n",
    "converter.optimizations = [tf.lite.Optimize.DEFAULT]\n",
    "tflite_quantized_model = converter.convert()\n",
    "\n",
    "open(tflite_save_path, 'wb').write(tflite_quantized_model)"
   ]
  },
  {
   "cell_type": "markdown",
   "metadata": {
    "id": "CHBPBXdx9hE6"
   },
   "source": [
    "# Inference test"
   ]
  },
  {
   "cell_type": "code",
   "execution_count": 262,
   "metadata": {
    "id": "mGAzLocO9hE7"
   },
   "outputs": [],
   "source": [
    "interpreter = tf.lite.Interpreter(model_path=tflite_save_path)\n",
    "interpreter.allocate_tensors()"
   ]
  },
  {
   "cell_type": "code",
   "execution_count": 263,
   "metadata": {
    "id": "oQuDK8YS9hE7"
   },
   "outputs": [],
   "source": [
    "# Get I / O tensor\n",
    "input_details = interpreter.get_input_details()\n",
    "output_details = interpreter.get_output_details()"
   ]
  },
  {
   "cell_type": "code",
   "execution_count": 264,
   "metadata": {
    "id": "2_ixAf_l9hE7"
   },
   "outputs": [],
   "source": [
    "interpreter.set_tensor(input_details[0]['index'], np.array([X_test[0]]))"
   ]
  },
  {
   "cell_type": "code",
   "execution_count": 265,
   "metadata": {
    "colab": {
     "base_uri": "https://localhost:8080/"
    },
    "id": "s4FoAnuc9hE7",
    "outputId": "91f18257-8d8b-4ef3-c558-e9b5f94fabbf",
    "scrolled": true
   },
   "outputs": [
    {
     "name": "stdout",
     "output_type": "stream",
     "text": [
      "CPU times: user 216 µs, sys: 45 µs, total: 261 µs\n",
      "Wall time: 215 µs\n"
     ]
    }
   ],
   "source": [
    "%%time\n",
    "# Inference implementation\n",
    "interpreter.invoke()\n",
    "tflite_results = interpreter.get_tensor(output_details[0]['index'])"
   ]
  },
  {
   "cell_type": "code",
   "execution_count": 266,
   "metadata": {
    "colab": {
     "base_uri": "https://localhost:8080/"
    },
    "id": "vONjp19J9hE8",
    "outputId": "77205e24-fd00-42c4-f7b6-e06e527c2cba"
   },
   "outputs": [
    {
     "name": "stdout",
     "output_type": "stream",
     "text": [
      "[3.1545525e-04 1.9889994e-04 3.4272078e-02 9.6521354e-01]\n",
      "3\n"
     ]
    }
   ],
   "source": [
    "print(np.squeeze(tflite_results))\n",
    "print(np.argmax(np.squeeze(tflite_results)))"
   ]
  },
  {
   "cell_type": "code",
   "execution_count": null,
   "metadata": {},
   "outputs": [],
   "source": []
  }
 ],
 "metadata": {
  "accelerator": "GPU",
  "colab": {
   "collapsed_sections": [],
   "name": "keypoint_classification_EN.ipynb",
   "provenance": [],
   "toc_visible": true
  },
  "kernelspec": {
   "display_name": "Python 3 (ipykernel)",
   "language": "python",
   "name": "python3"
  },
  "language_info": {
   "codemirror_mode": {
    "name": "ipython",
    "version": 3
   },
   "file_extension": ".py",
   "mimetype": "text/x-python",
   "name": "python",
   "nbconvert_exporter": "python",
   "pygments_lexer": "ipython3",
   "version": "3.9.7"
  }
 },
 "nbformat": 4,
 "nbformat_minor": 4
}
